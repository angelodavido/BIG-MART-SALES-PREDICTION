{
 "cells": [
  {
   "cell_type": "code",
   "execution_count": 1,
   "metadata": {},
   "outputs": [],
   "source": [
    "#import libraries \n",
    "import pandas as pd\n",
    "import numpy as np\n",
    "import seaborn as sns\n",
    "import matplotlib.pyplot as plt\n",
    "import matplotlib as mpl\n",
    "import itertools\n",
    "import datetime as dt\n",
    "from scipy import stats\n",
    "from IPython.display import display\n",
    "import warnings\n",
    "warnings.filterwarnings('ignore')\n",
    "import os\n",
    "import gc \n",
    "import pandas_profiling"
   ]
  },
  {
   "cell_type": "code",
   "execution_count": 2,
   "metadata": {},
   "outputs": [],
   "source": [
    "test_bundas = pd.read_csv('C:/Users/jonathan/Desktop/ilabdata/bundas_test.csv')"
   ]
  },
  {
   "cell_type": "code",
   "execution_count": 3,
   "metadata": {},
   "outputs": [
    {
     "data": {
      "text/plain": [
       "Item_ID                        0\n",
       "Weight                       976\n",
       "FatContent                     0\n",
       "Visibility                     0\n",
       "Category                       0\n",
       "Max_Price                      0\n",
       "Store_ID                       0\n",
       "Store_Establishment_Year       0\n",
       "Store_Size                  1606\n",
       "Store_Location_Type            0\n",
       "Store_Type                     0\n",
       "dtype: int64"
      ]
     },
     "execution_count": 3,
     "metadata": {},
     "output_type": "execute_result"
    }
   ],
   "source": [
    "# Checking Null values in test Set\n",
    "test_bundas.isnull().sum()"
   ]
  },
  {
   "cell_type": "code",
   "execution_count": 4,
   "metadata": {},
   "outputs": [],
   "source": [
    "from sklearn.preprocessing import Imputer"
   ]
  },
  {
   "cell_type": "markdown",
   "metadata": {},
   "source": [
    "# Dealing with the NAs\n",
    "\n",
    "\n",
    "We discovered there are blanks in the weight (976) collum and the store size (1606). After a deeper analysis we discovered that some of the missing entries for weights column have the same item idea as the products with the weight entries hence we decided to fill up the entries with blanks considering their item idea.  \n",
    "  \n",
    "colSums(is.na(ts))\n",
    "\n",
    "ts$tracker<-1:nrow(ts)\n",
    "\n",
    "## getting columns with the weight entries\n",
    "drna<-ts[complete.cases(ts$Weight),]\n",
    "\n",
    "tra<-drna$tracker\n",
    "\n",
    "# the entries without any weight entries\n",
    "dropd<-ts[-tra,]\n",
    "\n",
    "## confirming the combined splits are the same as the original data\n",
    "nrow(drna)+nrow(dropd)\n",
    "nrow(ts)\n",
    "\n",
    "\n",
    "colSums(is.na(drna))\n",
    "\n",
    "weigts<-drna %>% \n",
    "  group_by(Item_ID,Weight) %>% \n",
    "  summarise(x=1)\n",
    "\n",
    "colnames(weigts)<-c(\"Item_ID\",\"Weight_al\",\"x\")\n",
    "compwight<-left_join(dropd, weigts[,-3], by=\"Item_ID\")\n",
    "\n",
    "compwight.Weight<-compwight.Weight_al\n",
    "\n",
    "In the end only 20 entries are still empty for the weights collumn\n",
    "colSums(is.na((compwight)))\n",
    "\n",
    "sdf<-compwight[complete.cases(compwight)==FALSE,]\n",
    "\n",
    "## combining the two to create a new data set\n",
    "cmw_ts<-rbind(drna,compwight[,-c(13)])\n",
    "\n",
    "We decided to drop the entries that still have empty entries leading to loose of 28.62 % of the data \n",
    "fin_ts<-cmw_ts[complete.cases(cmw_ts),]\n",
    "(1-nrow(fin_ts)/nrow(ts))*100\n",
    "\n",
    "colSums(is.na(fin_ts))\n",
    "write.csv(fin_ts,\"comp_bundas_test.csv.csv\")\n",
    "\n"
   ]
  },
  {
   "cell_type": "code",
   "execution_count": 7,
   "metadata": {},
   "outputs": [],
   "source": [
    "\n",
    "df_mean_imputed = pd.read_csv('C:/Users/jonathan/Desktop/ilabdata/comp_bundas_test.csv')"
   ]
  },
  {
   "cell_type": "code",
   "execution_count": 8,
   "metadata": {},
   "outputs": [],
   "source": [
    "\n",
    "df_mean_imputed.loc[df_mean_imputed['FatContent'] == 'LF', 'FatContent'] = 'Low Fat'\n",
    "df_mean_imputed.loc[df_mean_imputed['FatContent'] == 'reg', 'FatContent'] = 'Regular'\n",
    "df_mean_imputed.loc[df_mean_imputed['FatContent'] == 'low fat', 'FatContent'] = 'Low Fat'"
   ]
  },
  {
   "cell_type": "code",
   "execution_count": 9,
   "metadata": {},
   "outputs": [
    {
     "data": {
      "text/plain": [
       "array(['Low Fat', 'Regular'], dtype=object)"
      ]
     },
     "execution_count": 9,
     "metadata": {},
     "output_type": "execute_result"
    }
   ],
   "source": [
    "df_mean_imputed['FatContent'].unique()\n"
   ]
  },
  {
   "cell_type": "code",
   "execution_count": 10,
   "metadata": {},
   "outputs": [
    {
     "data": {
      "text/plain": [
       "Item_ID                     0\n",
       "Weight                      0\n",
       "FatContent                  0\n",
       "Visibility                  0\n",
       "Category                    0\n",
       "Max_Price                   0\n",
       "Store_ID                    0\n",
       "Store_Establishment_Year    0\n",
       "Store_Size                  0\n",
       "Store_Location_Type         0\n",
       "Store_Type                  0\n",
       "dtype: int64"
      ]
     },
     "execution_count": 10,
     "metadata": {},
     "output_type": "execute_result"
    }
   ],
   "source": [
    "# Checking Null values in test Set\n",
    "df_mean_imputed.isnull().sum()"
   ]
  },
  {
   "cell_type": "code",
   "execution_count": 11,
   "metadata": {},
   "outputs": [],
   "source": [
    "modDf = df_mean_imputed.dropna(how='any', subset=['Store_Size'])"
   ]
  },
  {
   "cell_type": "code",
   "execution_count": 12,
   "metadata": {},
   "outputs": [],
   "source": [
    "# One hot encode the categorical columns\n",
    "FatContent_one_hot = pd.get_dummies(modDf['FatContent'], \n",
    "                                     prefix='FatContent')\n",
    "\n",
    "Category_one_hot = pd.get_dummies(modDf['Category'], \n",
    "                                prefix='Category')\n",
    "\n",
    "Store_Size_one_hot = pd.get_dummies(modDf['Store_Size'], \n",
    "                                   prefix='Store_Size')\n",
    "\n",
    "# One hot encode the categorical columns\n",
    "Store_Location_Type_one_hot = pd.get_dummies(modDf['Store_Location_Type'], \n",
    "                                     prefix='Store_Location_Type')\n",
    "\n",
    "Store_Type_one_hot = pd.get_dummies(modDf['Store_Type'], \n",
    "                                prefix='Store_Type')\n",
    "\n",
    "Store_ID_one_hot = pd.get_dummies(modDf['Store_ID'], \n",
    "                                   prefix='Store_ID')"
   ]
  },
  {
   "cell_type": "code",
   "execution_count": 13,
   "metadata": {},
   "outputs": [],
   "source": [
    "# Combine the one hot encoded columns with df_con_enc\n",
    "modDfenc = pd.concat([modDf, \n",
    "                        FatContent_one_hot, \n",
    "                        Category_one_hot, \n",
    "                        Store_Size_one_hot,\n",
    "                        Store_Location_Type_one_hot, \n",
    "                        Store_Type_one_hot, \n",
    "                        Store_ID_one_hot], axis=1)\n",
    "\n",
    "# Drop the original categorical columns (because now they've been one hot encoded)\n",
    "modDfenc = modDfenc.drop(['FatContent','Category','Store_Size','Store_Location_Type','Store_Type','Store_ID'], axis=1)"
   ]
  },
  {
   "cell_type": "code",
   "execution_count": 14,
   "metadata": {},
   "outputs": [],
   "source": [
    "# Seclect the dataframe we want to use first for predictions\n",
    "selected_df = modDfenc"
   ]
  },
  {
   "cell_type": "code",
   "execution_count": 15,
   "metadata": {},
   "outputs": [],
   "source": [
    "selected_df.to_csv('C:/Users/jonathan/Desktop/ilabdata/test_modified.csv',index=False)"
   ]
  },
  {
   "cell_type": "code",
   "execution_count": 15,
   "metadata": {},
   "outputs": [
    {
     "data": {
      "text/html": [
       "<div>\n",
       "<style scoped>\n",
       "    .dataframe tbody tr th:only-of-type {\n",
       "        vertical-align: middle;\n",
       "    }\n",
       "\n",
       "    .dataframe tbody tr th {\n",
       "        vertical-align: top;\n",
       "    }\n",
       "\n",
       "    .dataframe thead th {\n",
       "        text-align: right;\n",
       "    }\n",
       "</style>\n",
       "<table border=\"1\" class=\"dataframe\">\n",
       "  <thead>\n",
       "    <tr style=\"text-align: right;\">\n",
       "      <th></th>\n",
       "      <th>Item_ID</th>\n",
       "      <th>Weight</th>\n",
       "      <th>Visibility</th>\n",
       "      <th>Max_Price</th>\n",
       "      <th>Store_Establishment_Year</th>\n",
       "      <th>FatContent_Low Fat</th>\n",
       "      <th>FatContent_Regular</th>\n",
       "      <th>Category_Baking Goods</th>\n",
       "      <th>Category_Breads</th>\n",
       "      <th>Category_Breakfast</th>\n",
       "      <th>...</th>\n",
       "      <th>Store_Type_Supermarket Type1</th>\n",
       "      <th>Store_Type_Supermarket Type2</th>\n",
       "      <th>Store_Type_Supermarket Type3</th>\n",
       "      <th>Store_ID_OUT013</th>\n",
       "      <th>Store_ID_OUT018</th>\n",
       "      <th>Store_ID_OUT019</th>\n",
       "      <th>Store_ID_OUT027</th>\n",
       "      <th>Store_ID_OUT035</th>\n",
       "      <th>Store_ID_OUT046</th>\n",
       "      <th>Store_ID_OUT049</th>\n",
       "    </tr>\n",
       "  </thead>\n",
       "  <tbody>\n",
       "    <tr>\n",
       "      <td>0</td>\n",
       "      <td>FDW58</td>\n",
       "      <td>20.750</td>\n",
       "      <td>0.007565</td>\n",
       "      <td>107.8622</td>\n",
       "      <td>1999</td>\n",
       "      <td>1</td>\n",
       "      <td>0</td>\n",
       "      <td>0</td>\n",
       "      <td>0</td>\n",
       "      <td>0</td>\n",
       "      <td>...</td>\n",
       "      <td>1</td>\n",
       "      <td>0</td>\n",
       "      <td>0</td>\n",
       "      <td>0</td>\n",
       "      <td>0</td>\n",
       "      <td>0</td>\n",
       "      <td>0</td>\n",
       "      <td>0</td>\n",
       "      <td>0</td>\n",
       "      <td>1</td>\n",
       "    </tr>\n",
       "    <tr>\n",
       "      <td>1</td>\n",
       "      <td>FDH56</td>\n",
       "      <td>9.800</td>\n",
       "      <td>0.063817</td>\n",
       "      <td>117.1492</td>\n",
       "      <td>1997</td>\n",
       "      <td>0</td>\n",
       "      <td>1</td>\n",
       "      <td>0</td>\n",
       "      <td>0</td>\n",
       "      <td>0</td>\n",
       "      <td>...</td>\n",
       "      <td>1</td>\n",
       "      <td>0</td>\n",
       "      <td>0</td>\n",
       "      <td>0</td>\n",
       "      <td>0</td>\n",
       "      <td>0</td>\n",
       "      <td>0</td>\n",
       "      <td>0</td>\n",
       "      <td>1</td>\n",
       "      <td>0</td>\n",
       "    </tr>\n",
       "    <tr>\n",
       "      <td>2</td>\n",
       "      <td>FDL48</td>\n",
       "      <td>19.350</td>\n",
       "      <td>0.082602</td>\n",
       "      <td>50.1034</td>\n",
       "      <td>2009</td>\n",
       "      <td>0</td>\n",
       "      <td>1</td>\n",
       "      <td>1</td>\n",
       "      <td>0</td>\n",
       "      <td>0</td>\n",
       "      <td>...</td>\n",
       "      <td>0</td>\n",
       "      <td>1</td>\n",
       "      <td>0</td>\n",
       "      <td>0</td>\n",
       "      <td>1</td>\n",
       "      <td>0</td>\n",
       "      <td>0</td>\n",
       "      <td>0</td>\n",
       "      <td>0</td>\n",
       "      <td>0</td>\n",
       "    </tr>\n",
       "    <tr>\n",
       "      <td>3</td>\n",
       "      <td>FDU11</td>\n",
       "      <td>4.785</td>\n",
       "      <td>0.092738</td>\n",
       "      <td>122.3098</td>\n",
       "      <td>1999</td>\n",
       "      <td>1</td>\n",
       "      <td>0</td>\n",
       "      <td>0</td>\n",
       "      <td>1</td>\n",
       "      <td>0</td>\n",
       "      <td>...</td>\n",
       "      <td>1</td>\n",
       "      <td>0</td>\n",
       "      <td>0</td>\n",
       "      <td>0</td>\n",
       "      <td>0</td>\n",
       "      <td>0</td>\n",
       "      <td>0</td>\n",
       "      <td>0</td>\n",
       "      <td>0</td>\n",
       "      <td>1</td>\n",
       "    </tr>\n",
       "    <tr>\n",
       "      <td>4</td>\n",
       "      <td>DRL59</td>\n",
       "      <td>16.750</td>\n",
       "      <td>0.021206</td>\n",
       "      <td>52.0298</td>\n",
       "      <td>1987</td>\n",
       "      <td>1</td>\n",
       "      <td>0</td>\n",
       "      <td>0</td>\n",
       "      <td>0</td>\n",
       "      <td>0</td>\n",
       "      <td>...</td>\n",
       "      <td>1</td>\n",
       "      <td>0</td>\n",
       "      <td>0</td>\n",
       "      <td>1</td>\n",
       "      <td>0</td>\n",
       "      <td>0</td>\n",
       "      <td>0</td>\n",
       "      <td>0</td>\n",
       "      <td>0</td>\n",
       "      <td>0</td>\n",
       "    </tr>\n",
       "  </tbody>\n",
       "</table>\n",
       "<p>5 rows × 40 columns</p>\n",
       "</div>"
      ],
      "text/plain": [
       "  Item_ID  Weight  Visibility  Max_Price  Store_Establishment_Year  \\\n",
       "0   FDW58  20.750    0.007565   107.8622                      1999   \n",
       "1   FDH56   9.800    0.063817   117.1492                      1997   \n",
       "2   FDL48  19.350    0.082602    50.1034                      2009   \n",
       "3   FDU11   4.785    0.092738   122.3098                      1999   \n",
       "4   DRL59  16.750    0.021206    52.0298                      1987   \n",
       "\n",
       "   FatContent_Low Fat  FatContent_Regular  Category_Baking Goods  \\\n",
       "0                   1                   0                      0   \n",
       "1                   0                   1                      0   \n",
       "2                   0                   1                      1   \n",
       "3                   1                   0                      0   \n",
       "4                   1                   0                      0   \n",
       "\n",
       "   Category_Breads  Category_Breakfast  ...  Store_Type_Supermarket Type1  \\\n",
       "0                0                   0  ...                             1   \n",
       "1                0                   0  ...                             1   \n",
       "2                0                   0  ...                             0   \n",
       "3                1                   0  ...                             1   \n",
       "4                0                   0  ...                             1   \n",
       "\n",
       "   Store_Type_Supermarket Type2  Store_Type_Supermarket Type3  \\\n",
       "0                             0                             0   \n",
       "1                             0                             0   \n",
       "2                             1                             0   \n",
       "3                             0                             0   \n",
       "4                             0                             0   \n",
       "\n",
       "   Store_ID_OUT013  Store_ID_OUT018  Store_ID_OUT019  Store_ID_OUT027  \\\n",
       "0                0                0                0                0   \n",
       "1                0                0                0                0   \n",
       "2                0                1                0                0   \n",
       "3                0                0                0                0   \n",
       "4                1                0                0                0   \n",
       "\n",
       "   Store_ID_OUT035  Store_ID_OUT046  Store_ID_OUT049  \n",
       "0                0                0                1  \n",
       "1                0                1                0  \n",
       "2                0                0                0  \n",
       "3                0                0                1  \n",
       "4                0                0                0  \n",
       "\n",
       "[5 rows x 40 columns]"
      ]
     },
     "execution_count": 15,
     "metadata": {},
     "output_type": "execute_result"
    }
   ],
   "source": [
    "selected_df.head()"
   ]
  },
  {
   "cell_type": "code",
   "execution_count": null,
   "metadata": {},
   "outputs": [],
   "source": []
  }
 ],
 "metadata": {
  "kernelspec": {
   "display_name": "Python 3",
   "language": "python",
   "name": "python3"
  },
  "language_info": {
   "codemirror_mode": {
    "name": "ipython",
    "version": 3
   },
   "file_extension": ".py",
   "mimetype": "text/x-python",
   "name": "python",
   "nbconvert_exporter": "python",
   "pygments_lexer": "ipython3",
   "version": "3.7.4"
  }
 },
 "nbformat": 4,
 "nbformat_minor": 2
}
