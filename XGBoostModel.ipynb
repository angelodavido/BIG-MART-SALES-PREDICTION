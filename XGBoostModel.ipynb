{
 "cells": [
  {
   "cell_type": "markdown",
   "metadata": {},
   "source": [
    "## XGBOOST"
   ]
  },
  {
   "cell_type": "markdown",
   "metadata": {},
   "source": [
    "### Why XGBoost?\n",
    "https://towardsdatascience.com/a-beginners-guide-to-xgboost-87f5d4c30ed7\n",
    "\n",
    "https://towardsdatascience.com/https-medium-com-vishalmorde-xgboost-algorithm-long-she-may-rein-edd9f99be63d\n",
    "\n",
    "Its fast and powerful :)"
   ]
  },
  {
   "cell_type": "markdown",
   "metadata": {},
   "source": [
    "<img src=\"https://miro.medium.com/max/1920/1*U72CpSTnJ-XTjCisJqCqLg.jpeg\"\n",
    "     alt=\"Why XGBoost\"/>"
   ]
  },
  {
   "cell_type": "code",
   "execution_count": 71,
   "metadata": {},
   "outputs": [],
   "source": [
    "import xgboost as xgb\n",
    "import pandas as pd\n",
    "from sklearn.model_selection import train_test_split\n",
    "from sklearn.metrics import r2_score\n",
    "\n",
    "# The output of multiple commands in a cell will be output at once.\n",
    "from IPython.core.interactiveshell import InteractiveShell\n",
    "InteractiveShell.ast_node_interactivity = \"all\""
   ]
  },
  {
   "cell_type": "code",
   "execution_count": 45,
   "metadata": {},
   "outputs": [],
   "source": [
    "# We start by importing the new data set\n",
    "home_folder = '/Users/anthonymiyoro/Documents/code/DataTho/'\n",
    "\n",
    "#Read dataset\n",
    "train_modified = pd.read_csv(home_folder + 'train_modified.csv')\n",
    "test_bundas = pd.read_csv(home_folder + 'bundas_test.csv')"
   ]
  },
  {
   "cell_type": "markdown",
   "metadata": {},
   "source": [
    "### Split the data between train and test"
   ]
  },
  {
   "cell_type": "markdown",
   "metadata": {},
   "source": [
    "We then remove the Item_ID feature as it does not correlate to Sales"
   ]
  },
  {
   "cell_type": "code",
   "execution_count": 46,
   "metadata": {},
   "outputs": [],
   "source": [
    "train_modified = train_modified.drop('Item_ID', axis=1)"
   ]
  },
  {
   "cell_type": "markdown",
   "metadata": {},
   "source": [
    "Our scikit learn package requires that the explanatory variables are stored seperately from the outcome variables."
   ]
  },
  {
   "cell_type": "code",
   "execution_count": 47,
   "metadata": {},
   "outputs": [],
   "source": [
    "rf_trainY = train_modified['Item_Store_Sales']\n",
    "rf_trainX = train_modified.drop('Item_Store_Sales', axis=1)"
   ]
  },
  {
   "cell_type": "code",
   "execution_count": 48,
   "metadata": {},
   "outputs": [
    {
     "data": {
      "text/plain": [
       "4890"
      ]
     },
     "execution_count": 48,
     "metadata": {},
     "output_type": "execute_result"
    },
    {
     "data": {
      "text/plain": [
       "1223"
      ]
     },
     "execution_count": 48,
     "metadata": {},
     "output_type": "execute_result"
    },
    {
     "data": {
      "text/plain": [
       "4890"
      ]
     },
     "execution_count": 48,
     "metadata": {},
     "output_type": "execute_result"
    },
    {
     "data": {
      "text/plain": [
       "1223"
      ]
     },
     "execution_count": 48,
     "metadata": {},
     "output_type": "execute_result"
    }
   ],
   "source": [
    "X_train, X_test, y_train, y_test = train_test_split(rf_trainX, rf_trainY, test_size=0.2)\n",
    "\n",
    "len(X_train)\n",
    "len(X_test)\n",
    "len(y_train)\n",
    "len(y_test)"
   ]
  },
  {
   "cell_type": "code",
   "execution_count": 55,
   "metadata": {},
   "outputs": [
    {
     "data": {
      "text/html": [
       "<div>\n",
       "<style scoped>\n",
       "    .dataframe tbody tr th:only-of-type {\n",
       "        vertical-align: middle;\n",
       "    }\n",
       "\n",
       "    .dataframe tbody tr th {\n",
       "        vertical-align: top;\n",
       "    }\n",
       "\n",
       "    .dataframe thead th {\n",
       "        text-align: right;\n",
       "    }\n",
       "</style>\n",
       "<table border=\"1\" class=\"dataframe\">\n",
       "  <thead>\n",
       "    <tr style=\"text-align: right;\">\n",
       "      <th></th>\n",
       "      <th>Weight</th>\n",
       "      <th>Visibility</th>\n",
       "      <th>Max_Price</th>\n",
       "      <th>Store_Establishment_Year</th>\n",
       "      <th>FatContent_LF</th>\n",
       "      <th>FatContent_Low Fat</th>\n",
       "      <th>FatContent_Regular</th>\n",
       "      <th>FatContent_low fat</th>\n",
       "      <th>FatContent_reg</th>\n",
       "      <th>Category_Baking Goods</th>\n",
       "      <th>...</th>\n",
       "      <th>Store_Type_Supermarket Type1</th>\n",
       "      <th>Store_Type_Supermarket Type2</th>\n",
       "      <th>Store_Type_Supermarket Type3</th>\n",
       "      <th>Store_ID_OUT013</th>\n",
       "      <th>Store_ID_OUT018</th>\n",
       "      <th>Store_ID_OUT019</th>\n",
       "      <th>Store_ID_OUT027</th>\n",
       "      <th>Store_ID_OUT035</th>\n",
       "      <th>Store_ID_OUT046</th>\n",
       "      <th>Store_ID_OUT049</th>\n",
       "    </tr>\n",
       "  </thead>\n",
       "  <tbody>\n",
       "    <tr>\n",
       "      <th>1247</th>\n",
       "      <td>16.00</td>\n",
       "      <td>0.017548</td>\n",
       "      <td>48.3718</td>\n",
       "      <td>2004</td>\n",
       "      <td>0</td>\n",
       "      <td>0</td>\n",
       "      <td>1</td>\n",
       "      <td>0</td>\n",
       "      <td>0</td>\n",
       "      <td>0</td>\n",
       "      <td>...</td>\n",
       "      <td>1</td>\n",
       "      <td>0</td>\n",
       "      <td>0</td>\n",
       "      <td>0</td>\n",
       "      <td>0</td>\n",
       "      <td>0</td>\n",
       "      <td>0</td>\n",
       "      <td>1</td>\n",
       "      <td>0</td>\n",
       "      <td>0</td>\n",
       "    </tr>\n",
       "    <tr>\n",
       "      <th>2192</th>\n",
       "      <td>17.25</td>\n",
       "      <td>0.035058</td>\n",
       "      <td>91.6120</td>\n",
       "      <td>2004</td>\n",
       "      <td>0</td>\n",
       "      <td>1</td>\n",
       "      <td>0</td>\n",
       "      <td>0</td>\n",
       "      <td>0</td>\n",
       "      <td>0</td>\n",
       "      <td>...</td>\n",
       "      <td>1</td>\n",
       "      <td>0</td>\n",
       "      <td>0</td>\n",
       "      <td>0</td>\n",
       "      <td>0</td>\n",
       "      <td>0</td>\n",
       "      <td>0</td>\n",
       "      <td>1</td>\n",
       "      <td>0</td>\n",
       "      <td>0</td>\n",
       "    </tr>\n",
       "    <tr>\n",
       "      <th>6042</th>\n",
       "      <td>7.42</td>\n",
       "      <td>0.021662</td>\n",
       "      <td>187.7582</td>\n",
       "      <td>2009</td>\n",
       "      <td>0</td>\n",
       "      <td>0</td>\n",
       "      <td>1</td>\n",
       "      <td>0</td>\n",
       "      <td>0</td>\n",
       "      <td>0</td>\n",
       "      <td>...</td>\n",
       "      <td>0</td>\n",
       "      <td>1</td>\n",
       "      <td>0</td>\n",
       "      <td>0</td>\n",
       "      <td>1</td>\n",
       "      <td>0</td>\n",
       "      <td>0</td>\n",
       "      <td>0</td>\n",
       "      <td>0</td>\n",
       "      <td>0</td>\n",
       "    </tr>\n",
       "  </tbody>\n",
       "</table>\n",
       "<p>3 rows × 42 columns</p>\n",
       "</div>"
      ],
      "text/plain": [
       "      Weight  Visibility  Max_Price  Store_Establishment_Year  FatContent_LF  \\\n",
       "1247   16.00    0.017548    48.3718                      2004              0   \n",
       "2192   17.25    0.035058    91.6120                      2004              0   \n",
       "6042    7.42    0.021662   187.7582                      2009              0   \n",
       "\n",
       "      FatContent_Low Fat  FatContent_Regular  FatContent_low fat  \\\n",
       "1247                   0                   1                   0   \n",
       "2192                   1                   0                   0   \n",
       "6042                   0                   1                   0   \n",
       "\n",
       "      FatContent_reg  Category_Baking Goods  ...  \\\n",
       "1247               0                      0  ...   \n",
       "2192               0                      0  ...   \n",
       "6042               0                      0  ...   \n",
       "\n",
       "      Store_Type_Supermarket Type1  Store_Type_Supermarket Type2  \\\n",
       "1247                             1                             0   \n",
       "2192                             1                             0   \n",
       "6042                             0                             1   \n",
       "\n",
       "      Store_Type_Supermarket Type3  Store_ID_OUT013  Store_ID_OUT018  \\\n",
       "1247                             0                0                0   \n",
       "2192                             0                0                0   \n",
       "6042                             0                0                1   \n",
       "\n",
       "      Store_ID_OUT019  Store_ID_OUT027  Store_ID_OUT035  Store_ID_OUT046  \\\n",
       "1247                0                0                1                0   \n",
       "2192                0                0                1                0   \n",
       "6042                0                0                0                0   \n",
       "\n",
       "      Store_ID_OUT049  \n",
       "1247                0  \n",
       "2192                0  \n",
       "6042                0  \n",
       "\n",
       "[3 rows x 42 columns]"
      ]
     },
     "execution_count": 55,
     "metadata": {},
     "output_type": "execute_result"
    }
   ],
   "source": [
    "X_train.head(3)"
   ]
  },
  {
   "cell_type": "markdown",
   "metadata": {},
   "source": [
    "In order for XGBoost to be able to use our data, we’ll need to transform it into a specific format that XGBoost can handle. \n",
    "\n",
    "That format is called DMatrix. We first transform our dataframe to a numoy array after which we can convert it to a DMatrix format. "
   ]
  },
  {
   "cell_type": "code",
   "execution_count": 50,
   "metadata": {},
   "outputs": [
    {
     "data": {
      "text/plain": [
       "array([[1.60000000e+01, 1.75479580e-02, 4.83718000e+01, ...,\n",
       "        1.00000000e+00, 0.00000000e+00, 0.00000000e+00],\n",
       "       [1.72500000e+01, 3.50576880e-02, 9.16120000e+01, ...,\n",
       "        1.00000000e+00, 0.00000000e+00, 0.00000000e+00],\n",
       "       [7.42000000e+00, 2.16615270e-02, 1.87758200e+02, ...,\n",
       "        0.00000000e+00, 0.00000000e+00, 0.00000000e+00],\n",
       "       ...,\n",
       "       [1.46000000e+01, 5.97328440e-02, 2.41253800e+02, ...,\n",
       "        0.00000000e+00, 0.00000000e+00, 0.00000000e+00],\n",
       "       [1.60000000e+01, 1.72615327e-01, 1.54597200e+02, ...,\n",
       "        0.00000000e+00, 0.00000000e+00, 0.00000000e+00],\n",
       "       [1.05000000e+01, 1.12785350e-02, 2.37024800e+02, ...,\n",
       "        0.00000000e+00, 0.00000000e+00, 0.00000000e+00]])"
      ]
     },
     "execution_count": 50,
     "metadata": {},
     "output_type": "execute_result"
    },
    {
     "data": {
      "text/plain": [
       "array([[1.28576452e+01, 3.19466380e-02, 5.16008000e+01, ...,\n",
       "        0.00000000e+00, 0.00000000e+00, 0.00000000e+00],\n",
       "       [1.50000000e+01, 4.90701830e-02, 6.19168000e+01, ...,\n",
       "        1.00000000e+00, 0.00000000e+00, 0.00000000e+00],\n",
       "       [1.28576452e+01, 6.17305200e-02, 1.59157800e+02, ...,\n",
       "        0.00000000e+00, 0.00000000e+00, 0.00000000e+00],\n",
       "       ...,\n",
       "       [1.11500000e+01, 7.33542860e-02, 6.68142000e+01, ...,\n",
       "        1.00000000e+00, 0.00000000e+00, 0.00000000e+00],\n",
       "       [1.28576452e+01, 2.93417759e-01, 1.94613600e+02, ...,\n",
       "        0.00000000e+00, 0.00000000e+00, 0.00000000e+00],\n",
       "       [1.57500000e+01, 1.35047260e-01, 9.85700000e+01, ...,\n",
       "        1.00000000e+00, 0.00000000e+00, 0.00000000e+00]])"
      ]
     },
     "execution_count": 50,
     "metadata": {},
     "output_type": "execute_result"
    },
    {
     "data": {
      "text/plain": [
       "array([ 614.5334,  279.636 , 2600.6148, ..., 5287.7836, 1869.5664,\n",
       "       5451.5704])"
      ]
     },
     "execution_count": 50,
     "metadata": {},
     "output_type": "execute_result"
    },
    {
     "data": {
      "text/plain": [
       "array([1821.6288,  767.0016,  160.4578, ..., 2372.9112,  583.2408,\n",
       "       2496.75  ])"
      ]
     },
     "execution_count": 50,
     "metadata": {},
     "output_type": "execute_result"
    }
   ],
   "source": [
    "X_train.to_numpy()\n",
    "X_test.to_numpy()\n",
    "y_train.to_numpy()\n",
    "y_test.to_numpy()"
   ]
  },
  {
   "cell_type": "code",
   "execution_count": 52,
   "metadata": {},
   "outputs": [
    {
     "name": "stderr",
     "output_type": "stream",
     "text": [
      "/usr/local/lib/python3.7/site-packages/xgboost/core.py:587: FutureWarning: Series.base is deprecated and will be removed in a future version\n",
      "  if getattr(data, 'base', None) is not None and \\\n"
     ]
    }
   ],
   "source": [
    "D_train = xgb.DMatrix(X_train, label=y_train)\n",
    "D_test = xgb.DMatrix(X_test, label=y_test)"
   ]
  },
  {
   "cell_type": "markdown",
   "metadata": {},
   "source": [
    "We then define the parameters of our XGBoost model as shown below:\n",
    "\n",
    "We use eta to prevent overfitting in our ensemble model as shown below: https://www.datacamp.com/community/tutorials/xgboost-in-python"
   ]
  },
  {
   "cell_type": "markdown",
   "metadata": {},
   "source": [
    "We now train the model as shown below:"
   ]
  },
  {
   "cell_type": "code",
   "execution_count": 62,
   "metadata": {},
   "outputs": [],
   "source": [
    "#reg:squarederror replaces reg:linear\n",
    "xg_reg = xgb.XGBRegressor(objective ='reg:squarederror', colsample_bytree = 0.3, learning_rate = 0.1,\n",
    "                max_depth = 5, alpha = 10, n_estimators = 10)"
   ]
  },
  {
   "cell_type": "code",
   "execution_count": 74,
   "metadata": {},
   "outputs": [
    {
     "ename": "NameError",
     "evalue": "name 'data_dmatrix' is not defined",
     "output_type": "error",
     "traceback": [
      "\u001b[0;31m---------------------------------------------------------------------------\u001b[0m",
      "\u001b[0;31mNameError\u001b[0m                                 Traceback (most recent call last)",
      "\u001b[0;32m<ipython-input-74-0a6f171c90f3>\u001b[0m in \u001b[0;36m<module>\u001b[0;34m\u001b[0m\n\u001b[1;32m      6\u001b[0m                 'max_depth': 5, 'alpha': 10}\n\u001b[1;32m      7\u001b[0m \u001b[0;34m\u001b[0m\u001b[0m\n\u001b[0;32m----> 8\u001b[0;31m cv_results = xgb.cv(dtrain=data_dmatrix, params=params, nfold=3,\n\u001b[0m\u001b[1;32m      9\u001b[0m                     num_boost_round=50,early_stopping_rounds=10,metrics=\"mse\", as_pandas=True, seed=123)\n",
      "\u001b[0;31mNameError\u001b[0m: name 'data_dmatrix' is not defined"
     ]
    }
   ],
   "source": [
    "# xg_reg.fit(X_train,y_train)\n",
    "\n",
    "# preds = xg_reg.predict(X_test)\n",
    "\n",
    "params = {\"objective\":\"reg:linear\",'colsample_bytree': 0.3,'learning_rate': 0.1,\n",
    "                'max_depth': 5, 'alpha': 10}\n",
    "\n",
    "cv_results = xgb.cv(dtrain=data_dmatrix, params=params, nfold=3,\n",
    "                    num_boost_round=50,early_stopping_rounds=10,metrics=\"mse\", as_pandas=True, seed=123)"
   ]
  },
  {
   "cell_type": "code",
   "execution_count": null,
   "metadata": {},
   "outputs": [],
   "source": [
    "cv_results.head()"
   ]
  },
  {
   "cell_type": "code",
   "execution_count": 73,
   "metadata": {},
   "outputs": [
    {
     "name": "stdout",
     "output_type": "stream",
     "text": [
      "R2 Score: 0.164699\n"
     ]
    }
   ],
   "source": [
    "r2 = r2_score(y_test, preds)\n",
    "print(\"R2 Score: %f\" % (r2))\n",
    "\n"
   ]
  },
  {
   "cell_type": "code",
   "execution_count": 67,
   "metadata": {},
   "outputs": [
    {
     "data": {
      "text/plain": [
       "array([1567.1633 , 1082.8282 ,  293.7196 , ..., 1036.3588 ,  207.09569,\n",
       "       1188.464  ], dtype=float32)"
      ]
     },
     "execution_count": 67,
     "metadata": {},
     "output_type": "execute_result"
    }
   ],
   "source": [
    "preds = xg_reg.predict(X_test)\n"
   ]
  },
  {
   "cell_type": "code",
   "execution_count": null,
   "metadata": {},
   "outputs": [],
   "source": [
    "rmse = np.sqrt(mean_squared_error(y_test, preds))\n",
    "print(\"RMSE: %f\" % (rmse))"
   ]
  }
 ],
 "metadata": {
  "kernelspec": {
   "display_name": "Python 3",
   "language": "python",
   "name": "python3"
  },
  "language_info": {
   "codemirror_mode": {
    "name": "ipython",
    "version": 3
   },
   "file_extension": ".py",
   "mimetype": "text/x-python",
   "name": "python",
   "nbconvert_exporter": "python",
   "pygments_lexer": "ipython3",
   "version": "3.7.3"
  }
 },
 "nbformat": 4,
 "nbformat_minor": 2
}
