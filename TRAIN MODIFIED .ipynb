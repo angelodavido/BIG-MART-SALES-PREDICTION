{
 "cells": [
  {
   "cell_type": "code",
   "execution_count": 1,
   "metadata": {},
   "outputs": [],
   "source": [
    "#import libraries \n",
    "import pandas as pd\n",
    "import numpy as np"
   ]
  },
  {
   "cell_type": "code",
   "execution_count": 10,
   "metadata": {},
   "outputs": [],
   "source": [
    "comp_bundas_train = pd.read_csv('C:/Users/jonathan/Desktop/ilabdata/comp_bundas_train.csv')"
   ]
  },
  {
   "cell_type": "code",
   "execution_count": 11,
   "metadata": {},
   "outputs": [],
   "source": [
    "# One hot encode the categorical columns\n",
    "FatContent_one_hot = pd.get_dummies(comp_bundas_train['FatContent'], \n",
    "                                     prefix='FatContent')\n",
    "\n",
    "Category_one_hot = pd.get_dummies(comp_bundas_train['Category'], \n",
    "                                prefix='Category')\n",
    "\n",
    "Store_Size_one_hot = pd.get_dummies(comp_bundas_train['Store_Size'], \n",
    "                                   prefix='Store_Size')\n",
    "\n",
    "# One hot encode the categorical columns\n",
    "Store_Location_Type_one_hot = pd.get_dummies(comp_bundas_train['Store_Location_Type'], \n",
    "                                     prefix='Store_Location_Type')\n",
    "\n",
    "Store_Type_one_hot = pd.get_dummies(comp_bundas_train['Store_Type'], \n",
    "                                prefix='Store_Type')\n",
    "\n",
    "Store_ID_one_hot = pd.get_dummies(comp_bundas_train['Store_ID'], \n",
    "                                   prefix='Store_ID')"
   ]
  },
  {
   "cell_type": "code",
   "execution_count": 12,
   "metadata": {},
   "outputs": [],
   "source": [
    "# Combine the one hot encoded columns with df_con_enc\n",
    "modDfenc = pd.concat([comp_bundas_train, \n",
    "                        FatContent_one_hot, \n",
    "                        Category_one_hot, \n",
    "                        Store_Size_one_hot,\n",
    "                        Store_Location_Type_one_hot, \n",
    "                        Store_Type_one_hot, \n",
    "                        Store_ID_one_hot], axis=1)\n",
    "\n",
    "# Drop the original categorical columns (because now they've been one hot encoded)\n",
    "modDfenc = modDfenc.drop(['FatContent','Category','Store_Size','Store_Location_Type','Store_Type','Store_ID'], axis=1)"
   ]
  },
  {
   "cell_type": "code",
   "execution_count": 13,
   "metadata": {},
   "outputs": [
    {
     "name": "stdout",
     "output_type": "stream",
     "text": [
      "<class 'pandas.core.frame.DataFrame'>\n",
      "RangeIndex: 6109 entries, 0 to 6108\n",
      "Data columns (total 44 columns):\n",
      "Item_ID                           6109 non-null object\n",
      "Weight                            6109 non-null float64\n",
      "Visibility                        6109 non-null float64\n",
      "Max_Price                         6109 non-null float64\n",
      "Store_Establishment_Year          6109 non-null int64\n",
      "Item_Store_Sales                  6109 non-null float64\n",
      "FatContent_LF                     6109 non-null uint8\n",
      "FatContent_Low Fat                6109 non-null uint8\n",
      "FatContent_Regular                6109 non-null uint8\n",
      "FatContent_low fat                6109 non-null uint8\n",
      "FatContent_reg                    6109 non-null uint8\n",
      "Category_Baking Goods             6109 non-null uint8\n",
      "Category_Breads                   6109 non-null uint8\n",
      "Category_Breakfast                6109 non-null uint8\n",
      "Category_Canned                   6109 non-null uint8\n",
      "Category_Dairy                    6109 non-null uint8\n",
      "Category_Frozen Foods             6109 non-null uint8\n",
      "Category_Fruits and Vegetables    6109 non-null uint8\n",
      "Category_Hard Drinks              6109 non-null uint8\n",
      "Category_Health and Hygiene       6109 non-null uint8\n",
      "Category_Household                6109 non-null uint8\n",
      "Category_Meat                     6109 non-null uint8\n",
      "Category_Others                   6109 non-null uint8\n",
      "Category_Seafood                  6109 non-null uint8\n",
      "Category_Snack Foods              6109 non-null uint8\n",
      "Category_Soft Drinks              6109 non-null uint8\n",
      "Category_Starchy Foods            6109 non-null uint8\n",
      "Store_Size_High                   6109 non-null uint8\n",
      "Store_Size_Medium                 6109 non-null uint8\n",
      "Store_Size_Small                  6109 non-null uint8\n",
      "Store_Location_Type_Tier 1        6109 non-null uint8\n",
      "Store_Location_Type_Tier 2        6109 non-null uint8\n",
      "Store_Location_Type_Tier 3        6109 non-null uint8\n",
      "Store_Type_Grocery Store          6109 non-null uint8\n",
      "Store_Type_Supermarket Type1      6109 non-null uint8\n",
      "Store_Type_Supermarket Type2      6109 non-null uint8\n",
      "Store_Type_Supermarket Type3      6109 non-null uint8\n",
      "Store_ID_OUT013                   6109 non-null uint8\n",
      "Store_ID_OUT018                   6109 non-null uint8\n",
      "Store_ID_OUT019                   6109 non-null uint8\n",
      "Store_ID_OUT027                   6109 non-null uint8\n",
      "Store_ID_OUT035                   6109 non-null uint8\n",
      "Store_ID_OUT046                   6109 non-null uint8\n",
      "Store_ID_OUT049                   6109 non-null uint8\n",
      "dtypes: float64(4), int64(1), object(1), uint8(38)\n",
      "memory usage: 513.2+ KB\n"
     ]
    }
   ],
   "source": [
    "modDfenc.info()"
   ]
  },
  {
   "cell_type": "code",
   "execution_count": 14,
   "metadata": {},
   "outputs": [],
   "source": [
    "modDfenc.to_csv('C:/Users/jonathan/Desktop/ilabdata/train_modified.csv',index=False)"
   ]
  },
  {
   "cell_type": "code",
   "execution_count": null,
   "metadata": {},
   "outputs": [],
   "source": []
  }
 ],
 "metadata": {
  "kernelspec": {
   "display_name": "Python 3",
   "language": "python",
   "name": "python3"
  },
  "language_info": {
   "codemirror_mode": {
    "name": "ipython",
    "version": 3
   },
   "file_extension": ".py",
   "mimetype": "text/x-python",
   "name": "python",
   "nbconvert_exporter": "python",
   "pygments_lexer": "ipython3",
   "version": "3.7.4"
  }
 },
 "nbformat": 4,
 "nbformat_minor": 2
}
