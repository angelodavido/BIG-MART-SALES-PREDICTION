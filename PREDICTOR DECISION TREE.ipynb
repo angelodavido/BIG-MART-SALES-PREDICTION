{
 "cells": [
  {
   "cell_type": "code",
   "execution_count": 1,
   "metadata": {},
   "outputs": [],
   "source": [
    "import joblib\n",
    "import pandas as pd\n",
    "import pickle\n",
    "# from sklearn.preprocessing import StandardScaler\n",
    "# scaler = StandardScaler()\n"
   ]
  },
  {
   "cell_type": "code",
   "execution_count": 5,
   "metadata": {},
   "outputs": [],
   "source": [
    "dataframe = pd.read_csv(\"C:/Users/jonathan/Desktop/ilabdata/data/test_modified.csv\")\n",
    "\n",
    "dataset = dataframe.values\n",
    "X = dataset[:,1:43].astype(float)\n",
    "# X = scaler.fit_transform(X)\n"
   ]
  },
  {
   "cell_type": "code",
   "execution_count": 6,
   "metadata": {},
   "outputs": [
    {
     "name": "stdout",
     "output_type": "stream",
     "text": [
      "[[2.0750000e+01 7.5648360e-03 1.0786220e+02 ... 0.0000000e+00\n",
      "  0.0000000e+00 1.0000000e+00]\n",
      " [9.8000000e+00 6.3817206e-02 1.1714920e+02 ... 0.0000000e+00\n",
      "  1.0000000e+00 0.0000000e+00]\n",
      " [1.9350000e+01 8.2601537e-02 5.0103400e+01 ... 0.0000000e+00\n",
      "  0.0000000e+00 0.0000000e+00]\n",
      " ...\n",
      " [1.6200000e+01 0.0000000e+00 1.5579720e+02 ... 0.0000000e+00\n",
      "  0.0000000e+00 0.0000000e+00]\n",
      " [1.9600000e+01 2.4109582e-02 4.6071800e+01 ... 0.0000000e+00\n",
      "  0.0000000e+00 0.0000000e+00]\n",
      " [1.1500000e+01 7.2528603e-02 1.8805300e+02 ... 0.0000000e+00\n",
      "  0.0000000e+00 0.0000000e+00]]\n"
     ]
    }
   ],
   "source": [
    "\n",
    "print(X)\n"
   ]
  },
  {
   "cell_type": "code",
   "execution_count": 9,
   "metadata": {},
   "outputs": [],
   "source": [
    "filename = 'C:/Users/jonathan/Desktop/ilabdata/savedmodel/decision_tree.sav'\n",
    "# # Load the pickle file\n",
    "clf_load = joblib.load(filename)\n",
    "#clf_load = pickle.load(open(filename, 'rb'))\n"
   ]
  },
  {
   "cell_type": "code",
   "execution_count": 10,
   "metadata": {},
   "outputs": [
    {
     "name": "stdout",
     "output_type": "stream",
     "text": [
      "[1334.2632 1969.4364  770.3306 ... 4815.0656  864.2084 6338.416 ]\n"
     ]
    }
   ],
   "source": [
    "\n",
    "Ypredict = clf_load.predict(X)\n",
    "print(Ypredict)"
   ]
  },
  {
   "cell_type": "code",
   "execution_count": 13,
   "metadata": {},
   "outputs": [],
   "source": [
    "from numpy import savetxt\n",
    "from numpy import loadtxt"
   ]
  },
  {
   "cell_type": "code",
   "execution_count": 18,
   "metadata": {},
   "outputs": [],
   "source": [
    "savetxt('C:/Users/jonathan/Desktop/ilabdata/data/predictingdataDECISIONTREE.csv', Ypredict, delimiter=',')"
   ]
  },
  {
   "cell_type": "code",
   "execution_count": null,
   "metadata": {},
   "outputs": [],
   "source": []
  }
 ],
 "metadata": {
  "kernelspec": {
   "display_name": "Python 3",
   "language": "python",
   "name": "python3"
  },
  "language_info": {
   "codemirror_mode": {
    "name": "ipython",
    "version": 3
   },
   "file_extension": ".py",
   "mimetype": "text/x-python",
   "name": "python",
   "nbconvert_exporter": "python",
   "pygments_lexer": "ipython3",
   "version": "3.7.4"
  }
 },
 "nbformat": 4,
 "nbformat_minor": 2
}
